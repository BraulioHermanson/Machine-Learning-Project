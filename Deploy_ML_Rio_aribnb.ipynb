{
  "nbformat": 4,
  "nbformat_minor": 0,
  "metadata": {
    "colab": {
      "name": "Deploy-ML Rio_aribnb.ipynb",
      "provenance": [],
      "collapsed_sections": [],
      "authorship_tag": "ABX9TyNfepAUtHXexH48YsTsokx+",
      "include_colab_link": true
    },
    "kernelspec": {
      "name": "python3",
      "display_name": "Python 3"
    },
    "language_info": {
      "name": "python"
    }
  },
  "cells": [
    {
      "cell_type": "markdown",
      "metadata": {
        "id": "view-in-github",
        "colab_type": "text"
      },
      "source": [
        "<a href=\"https://colab.research.google.com/github/BraulioHermanson/Machine-Learning-Project/blob/main/Deploy_ML_Rio_aribnb.ipynb\" target=\"_parent\"><img src=\"https://colab.research.google.com/assets/colab-badge.svg\" alt=\"Open In Colab\"/></a>"
      ]
    },
    {
      "cell_type": "code",
      "source": [
        "#pip install streamlit"
      ],
      "metadata": {
        "id": "ApPK5wVK30x_"
      },
      "execution_count": null,
      "outputs": []
    },
    {
      "cell_type": "code",
      "source": [
        "from google.colab import drive\n",
        "drive.mount('/content/drive')"
      ],
      "metadata": {
        "colab": {
          "base_uri": "https://localhost:8080/"
        },
        "id": "757RDFNb4JDT",
        "outputId": "fe4022d0-b3e0-4234-cabe-b56afa016243"
      },
      "execution_count": 2,
      "outputs": [
        {
          "output_type": "stream",
          "name": "stdout",
          "text": [
            "Mounted at /content/drive\n"
          ]
        }
      ]
    },
    {
      "cell_type": "code",
      "execution_count": 1,
      "metadata": {
        "id": "0vyJVAuzw_sX"
      },
      "outputs": [],
      "source": [
        "import pandas as pd\n",
        "import streamlit as st\n",
        "import joblib"
      ]
    },
    {
      "cell_type": "code",
      "source": [
        "x_numericos = {'latitude': 0, 'longitude': 0, 'accommodates': 0, 'bathrooms': 0, 'bedrooms': 0, 'beds': 0, 'extra_people': 0,\n",
        "               'minimum_nights': 0, 'ano': 0, 'mes': 0, 'n_amenities': 0, 'host_listings_count': 0}\n",
        "\n",
        "x_tf = {'host_is_superhost': 0, 'instant_bookable': 0}\n",
        "\n",
        "x_listas = {'property_type': ['Apartment', 'Bed and breakfast', 'Condominium', 'Guest suite', 'Guesthouse', 'Hostel', 'House', 'Loft', 'Outros', 'Serviced apartment'],\n",
        "            'room_type': ['Entire home/apt', 'Hotel room', 'Private room', 'Shared room'],\n",
        "            'cancelation_policy': ['flexible', 'moderate', 'strict', 'strict_14_with_grace_period']\n",
        "            }\n",
        "\n",
        "\n",
        "dicionario = {}\n",
        "for item in x_listas:\n",
        "    for valor in x_listas[item]:\n",
        "        dicionario[f'{item}_{valor}'] = 0\n",
        "\n",
        "\n",
        "for item in x_numericos:\n",
        "    if item == 'latitude' or item == 'longitude':\n",
        "        valor = st.number_input(f'{item}', step=0.00001, value=0.0, format=\"%.5f\")\n",
        "    elif item == 'extra_people':\n",
        "        valor = st.number_input(f'{item}', step=0.01, value=0.0)\n",
        "    else:\n",
        "        valor = st.number_input(f'{item}', step=1, value=0)\n",
        "    x_numericos[item] = valor\n",
        "\n",
        "for item in x_tf:\n",
        "    valor = st.selectbox(f'{item}', ('Sim', 'Não'))\n",
        "    if valor == \"Sim\":\n",
        "        x_tf[item] = 1\n",
        "    else:\n",
        "        x_tf[item] = 0\n",
        "    \n",
        "    \n",
        "for item in x_listas:\n",
        "    valor = st.selectbox(f'{item}', x_listas[item])\n",
        "    dicionario[f'{item}_{valor}'] = 1\n",
        "    \n",
        "botao = st.button('Prever Valor do Imóvel')\n",
        "\n",
        "if botao:\n",
        "    dicionario.update(x_numericos)\n",
        "    dicionario.update(x_tf)\n",
        "    valores_x = pd.DataFrame(dicionario, index=[0])\n",
        "    modelo = joblib.load('/content/drive/MyDrive/Colab Notebooks/#treinamentos/deploy_rio/modelo.joblib')\n",
        "    preco = modelo.predict(valores_x)\n",
        "    st.write(preco[0])"
      ],
      "metadata": {
        "id": "_XiZa6SCxo7I",
        "colab": {
          "base_uri": "https://localhost:8080/"
        },
        "outputId": "f62903e3-c7ad-479a-dd57-3b573e880ffd"
      },
      "execution_count": 3,
      "outputs": [
        {
          "output_type": "stream",
          "name": "stderr",
          "text": [
            "2022-06-21 01:30:33.839 \n",
            "  \u001b[33m\u001b[1mWarning:\u001b[0m to view this Streamlit app on a browser, run it with the following\n",
            "  command:\n",
            "\n",
            "    streamlit run /usr/local/lib/python3.7/dist-packages/ipykernel_launcher.py [ARGUMENTS]\n"
          ]
        }
      ]
    }
  ]
}