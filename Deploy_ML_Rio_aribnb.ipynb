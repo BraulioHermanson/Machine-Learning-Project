{
  "nbformat": 4,
  "nbformat_minor": 0,
  "metadata": {
    "colab": {
      "name": "Deploy-ML Rio_aribnb.ipynb",
      "provenance": [],
      "collapsed_sections": [],
      "authorship_tag": "ABX9TyOjB8MUCPIIuLcGEx2SelOl",
      "include_colab_link": true
    },
    "kernelspec": {
      "name": "python3",
      "display_name": "Python 3"
    },
    "language_info": {
      "name": "python"
    }
  },
  "cells": [
    {
      "cell_type": "markdown",
      "metadata": {
        "id": "view-in-github",
        "colab_type": "text"
      },
      "source": [
        "<a href=\"https://colab.research.google.com/github/BraulioHermanson/Machine-Learning-Project/blob/main/Deploy_ML_Rio_aribnb.ipynb\" target=\"_parent\"><img src=\"https://colab.research.google.com/assets/colab-badge.svg\" alt=\"Open In Colab\"/></a>"
      ]
    },
    {
      "cell_type": "code",
      "source": [
        "#pip install streamlit"
      ],
      "metadata": {
        "id": "ApPK5wVK30x_"
      },
      "execution_count": null,
      "outputs": []
    },
    {
      "cell_type": "code",
      "execution_count": 11,
      "metadata": {
        "id": "0vyJVAuzw_sX"
      },
      "outputs": [],
      "source": [
        "import pandas as pd\n",
        "import streamlit as st\n",
        "import joblib"
      ]
    },
    {
      "cell_type": "code",
      "source": [
        "x_numericos = {'latitude': 0, 'longitude': 0, 'accommodates': 0, 'bathrooms': 0, 'bedrooms': 0, 'beds': 0, 'extra_people': 0,\n",
        "               'minimum_nights': 0, 'ano': 0, 'mes': 0, 'n_amenities': 0, 'host_listings_count': 0}\n",
        "\n",
        "x_tf = {'host_is_superhost': 0, 'instant_bookable': 0}\n",
        "\n",
        "x_listas = {'property_type': ['Apartment', 'Bed and breakfast', 'Condominium', 'Guest suite', 'Guesthouse', 'Hostel', 'House', 'Loft', 'Outros', 'Serviced apartment'],\n",
        "            'room_type': ['Entire home/apt', 'Hotel room', 'Private room', 'Shared room'],\n",
        "            'cancelation_policy': ['flexible', 'moderate', 'strict', 'strict_14_with_grace_period']\n",
        "            }\n",
        "\n",
        "\n",
        "dicionario = {}\n",
        "for item in x_listas:\n",
        "    for valor in x_listas[item]:\n",
        "        dicionario[f'{item}_{valor}'] = 0\n",
        "\n",
        "\n",
        "for item in x_numericos:\n",
        "    if item == 'latitude' or item == 'longitude':\n",
        "        valor = st.number_input(f'{item}', step=0.00001, value=0.0, format=\"%.5f\")\n",
        "    elif item == 'extra_people':\n",
        "        valor = st.number_input(f'{item}', step=0.01, value=0.0)\n",
        "    else:\n",
        "        valor = st.number_input(f'{item}', step=1, value=0)\n",
        "    x_numericos[item] = valor\n",
        "\n",
        "for item in x_tf:\n",
        "    valor = st.selectbox(f'{item}', ('Sim', 'Não'))\n",
        "    if valor == \"Sim\":\n",
        "        x_tf[item] = 1\n",
        "    else:\n",
        "        x_tf[item] = 0\n",
        "    \n",
        "    \n",
        "for item in x_listas:\n",
        "    valor = st.selectbox(f'{item}', x_listas[item])\n",
        "    dicionario[f'{item}_{valor}'] = 1\n",
        "    \n",
        "botao = st.button('Prever Valor do Imóvel')\n",
        "\n",
        "if botao:\n",
        "    dicionario.update(x_numericos)\n",
        "    dicionario.update(x_tf)\n",
        "    valores_x = pd.DataFrame(dicionario, index=[0])\n",
        "    modelo = joblib.load('modelo.joblib')\n",
        "    preco = modelo.predict(valores_x)\n",
        "    st.write(preco[0])"
      ],
      "metadata": {
        "id": "_XiZa6SCxo7I"
      },
      "execution_count": 12,
      "outputs": []
    }
  ]
}